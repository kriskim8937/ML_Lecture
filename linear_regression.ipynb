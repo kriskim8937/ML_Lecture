{
  "nbformat": 4,
  "nbformat_minor": 0,
  "metadata": {
    "colab": {
      "name": "linear_regression.ipynb",
      "provenance": [],
      "collapsed_sections": [],
      "include_colab_link": true
    },
    "kernelspec": {
      "name": "python3",
      "display_name": "Python 3"
    },
    "accelerator": "TPU",
    "gpuClass": "standard"
  },
  "cells": [
    {
      "cell_type": "markdown",
      "metadata": {
        "id": "view-in-github",
        "colab_type": "text"
      },
      "source": [
        "<a href=\"https://colab.research.google.com/github/kriskim8937/ML_Lecture/blob/master/linear_regression.ipynb\" target=\"_parent\"><img src=\"https://colab.research.google.com/assets/colab-badge.svg\" alt=\"Open In Colab\"/></a>"
      ]
    },
    {
      "cell_type": "code",
      "metadata": {
        "id": "PnZAZszNMcrM",
        "outputId": "ead90f58-c580-4599-d94f-2e2e4e87ff9c",
        "colab": {
          "base_uri": "https://localhost:8080/",
          "height": 265
        }
      },
      "source": [
        "import numpy as np\n",
        "import matplotlib.pyplot as plt\n",
        " \n",
        "# dataset generation\n",
        "data = np.zeros((100,2))\n",
        " \n",
        "for i in range(len(data)):\n",
        "  data[i][0] = 10*np.random.randn(1)\n",
        "  data[i][1] = 5*data[i,0] + 2 + 10*np.random.randn(1)\n",
        " \n",
        "plt.scatter(data[:,0], data[:,1])\n",
        "plt.show()"
      ],
      "execution_count": 1,
      "outputs": [
        {
          "output_type": "display_data",
          "data": {
            "text/plain": [
              "<Figure size 432x288 with 1 Axes>"
            ],
            "image/png": "[encoded data removed]"
          },
          "metadata": {
            "needs_background": "light"
          }
        }
      ]
    },
    {
      "cell_type": "code",
      "metadata": {
        "id": "NXQXZCTG9AqA",
        "outputId": "30ea591c-dedd-4de6-e6a7-29f6544ff57a",
        "colab": {
          "base_uri": "https://localhost:8080/",
          "height": 456
        }
      },
      "source": [
        "# y = 5x + 2 --> y = wx + b : find w and b\n",
        "# error = true - pred\n",
        "# MSE loss = (true - pred)**2\n",
        "def loss_function (w,b):\n",
        "  return sum((y-w*x-b)**2 for x, y in data)/len(data)\n",
        " \n",
        "def w_grad_loss(w,b):\n",
        "  return sum(2*(y-w*x-b)*(-x) for x,y in data )/len(data)\n",
        " \n",
        "def b_grad_loss(w,b):\n",
        "  return sum(2*(y-w*x-b)*(-1) for x,y in data )/len(data)\n",
        " \n",
        "# initial parameters\n",
        "w = 20.00001\n",
        "b = 20.00001\n",
        " \n",
        "# learning rate\n",
        "lr= 0.01 \n",
        " \n",
        "fig = plt.figure()\n",
        "for i in range(1000+1):\n",
        "  w = w - lr*w_grad_loss(w,b)\n",
        "  b = b - lr*b_grad_loss(w,b)\n",
        "  if i%100 == 0:\n",
        "    print('iteration:', i, 'loss=', loss_function(w,b), 'w=', w, 'b=', b)\n",
        " \n",
        "# plot result\n",
        "x_coor = []\n",
        "y_coor = []\n",
        "iter=0\n",
        "for i in range(-30,30,1):\n",
        "  x_coor.append (i)\n",
        "  y_coor.append (w*x_coor[iter] + b)\n",
        "  iter+=1\n",
        " \n",
        "plt.plot(x_coor, y_coor, 'r')\n",
        "plt.scatter(data[:,0], data[:,1])\n",
        "plt.show()"
      ],
      "execution_count": 2,
      "outputs": [
        {
          "output_type": "stream",
          "name": "stdout",
          "text": [
            "iteration: 0 loss= 9057.517064050364 w= -4.936029905474637 b= 19.50170610209662\n",
            "iteration: 100 loss= 115.58187067159153 w= 5.072587379651905 b= 4.949881444400652\n",
            "iteration: 200 loss= 110.55364240435047 w= 5.054646837180101 b= 2.9845091356516726\n",
            "iteration: 300 loss= 110.46271635973666 w= 5.05223430992862 b= 2.720218673888019\n",
            "iteration: 400 loss= 110.46107213335115 w= 5.051909888983808 b= 2.6846786147000943\n",
            "iteration: 500 loss= 110.46104240061162 w= 5.051866262969068 b= 2.679899419118641\n",
            "iteration: 600 loss= 110.46104186295099 w= 5.051860396426872 b= 2.6792567440379655\n",
            "iteration: 700 loss= 110.46104185322844 w= 5.051859607532504 b= 2.6791703212807723\n",
            "iteration: 800 loss= 110.46104185305259 w= 5.0518595014471295 b= 2.679158699711512\n",
            "iteration: 900 loss= 110.46104185304942 w= 5.051859487181461 b= 2.679157136918605\n",
            "iteration: 1000 loss= 110.4610418530494 w= 5.051859485263106 b= 2.679156926764399\n"
          ]
        },
        {
          "output_type": "display_data",
          "data": {
            "text/plain": [
              "<Figure size 432x288 with 1 Axes>"
            ],
            "image/png": "[encoded data removed]"
          },
          "metadata": {
            "needs_background": "light"
          }
        }
      ]
    },
    {
      "cell_type": "code",
      "metadata": {
        "id": "-fMZbLm20nJK",
        "outputId": "ad0645dd-9e58-4b05-9354-4ec919eeea54",
        "colab": {
          "base_uri": "https://localhost:8080/",
          "height": 345
        }
      },
      "source": [
        "# y = 5x + 2 --> y = ax + c : find a and c\n",
        "# error = true - pred\n",
        "# MSE loss = (true - pred)**2\n",
        " \n",
        "def loss_function (w,b):\n",
        "  return sum((y-w*x-b)**2 for x, y in data)/len(data)\n",
        " \n",
        "def grad_loss(w,b, w_h, b_h):\n",
        "  return  (loss_function(w+w_h,b+b_h) - loss_function(w,b))/h \n",
        "  \n",
        "w = 20.00001\n",
        "b = 20.00001\n",
        "lr= 0.01 # learning rate\n",
        "h = 0.001\n",
        " \n",
        "plt.figure(figsize=(20,2))\n",
        "plt_cnt=1\n",
        "\n",
        "for i in range(100+1):\n",
        "  w = w - lr*grad_loss(w, b, h, 0)\n",
        "  b = b - lr*grad_loss(w, b, 0, h)\n",
        "  \n",
        "  # 100회 반복마다 손실값 및 w, b 출력\n",
        "  if i%10 == 0:\n",
        "    print('iteration:', i, 'loss=', loss_function(w,b), 'w=', w, 'b=', b)\n",
        "    iter=0\n",
        "    x_coor = []\n",
        "    y_coor = []\n",
        "    plt.subplot(1,11,plt_cnt)\n",
        "    for j in range(-30,30,1):\n",
        "      x_coor.append (j)\n",
        "      y_coor.append (w*x_coor[iter] + b)\n",
        "      iter+=1 \n",
        "    plt.plot(x_coor, y_coor, 'r')\n",
        "    plt.scatter(data[:,0], data[:,1])\n",
        "    plt_cnt+=1\n",
        "\n",
        "x_coor = []\n",
        "y_coor = []\n",
        "iter=0\n",
        "for i in range(-30,30,1):\n",
        "  x_coor.append (i)\n",
        "  y_coor.append (w*x_coor[iter] + b)\n",
        "  iter+=1 \n",
        " \n",
        "plt.plot(x_coor, y_coor, 'r')\n",
        "plt.scatter(data[:,0], data[:,1], cmap='b')\n",
        "plt.show()\n"
      ],
      "execution_count": 3,
      "outputs": [
        {
          "output_type": "stream",
          "name": "stdout",
          "text": [
            "iteration: 0 loss= 9058.956795499134 w= -4.936872800357126 b= 19.501683284157732\n",
            "iteration: 10 loss= 304.53543764418026 w= 4.944428587037375 b= 16.493810710505297\n",
            "iteration: 20 loss= 237.37261854990822 w= 5.1491938044856305 b= 13.98341476756175\n",
            "iteration: 30 loss= 195.42012117090064 w= 5.135665251545756 b= 11.92825547591698\n",
            "iteration: 40 loss= 167.33568825554394 w= 5.120435523986682 b= 10.246681872661465\n",
            "iteration: 50 loss= 148.53459475309685 w= 5.107878840408116 b= 8.870804476136154\n",
            "iteration: 60 loss= 135.94829834887744 w= 5.0976026660913725 b= 7.74505071412764\n",
            "iteration: 70 loss= 127.52252029116256 w= 5.0891945686612665 b= 6.823950098012713\n",
            "iteration: 80 loss= 121.88200629212142 w= 5.082314995802644 b= 6.070298301898045\n",
            "iteration: 90 loss= 118.10608268365696 w= 5.076686074950086 b= 5.453654452305326\n",
            "iteration: 100 loss= 115.57839945428098 w= 5.072080447467496 b= 4.949111586223747\n"
          ]
        },
        {
          "output_type": "display_data",
          "data": {
            "text/plain": [
              "<Figure size 1440x144 with 11 Axes>"
            ],
            "image/png": "[encoded data removed]"
          },
          "metadata": {
            "needs_background": "light"
          }
        }
      ]
    },
    {
      "cell_type": "code",
      "metadata": {
        "id": "XnkcEiytHjz0",
        "outputId": "1434aa5e-8d14-40e7-a6ae-ac6204aaf1d2",
        "colab": {
          "base_uri": "https://localhost:8080/",
          "height": 1000
        }
      },
      "source": [
        "import tensorflow as tf\n",
        " \n",
        "# linear regression model 설계\n",
        "class LinearModel:\n",
        "    \n",
        "    def __init__(self):\n",
        "        self.w = tf.Variable(20.0)\n",
        "        self.b = tf.Variable(20.0)\n",
        "\n",
        "    def __call__(self, x):\n",
        "        return self.w* x + self.b\n",
        "\n",
        "x = data[:,0]\n",
        "y = data[:,1]\n",
        "\n",
        "print(x,y)\n",
        "\n",
        "# 손실함수 정의: MSE\n",
        "def loss(y, pred):\n",
        "    return tf.reduce_mean(tf.square(y - pred))\n",
        " \n",
        "# 학습모델 정의\n",
        "def train(linear_model, x, y, lr=0.01):\n",
        "    with tf.GradientTape() as t:\n",
        "        current_loss = loss(y, linear_model(x))\n",
        "\n",
        "    grad_w, grad_b = t.gradient(current_loss, [linear_model.w, linear_model.b])\n",
        "    linear_model.w.assign_sub(lr * grad_w)\n",
        "    linear_model.b.assign_sub(lr * grad_b)\n",
        "\n",
        "# linear gression 모델 선언\n",
        "linear_model = LinearModel()\n",
        "\n",
        "for i in range(1000+1):\n",
        "    w=linear_model.w.numpy() \n",
        "    b=linear_model.b.numpy()\n",
        "    real_loss = loss(y, linear_model(x))\n",
        "    train(linear_model, x, y, lr=0.01)\n",
        "  \n",
        "    # 100회 반복마다 손실값 및 w, b 출력\n",
        "    if i%100 == 0:\n",
        "        print('iteration: ', i, 'loss=', real_loss, 'w=', w, 'b=', b)\n",
        " \n",
        "# 결과 출력\n",
        "x_coor = []\n",
        "y_coor = []\n",
        "iter=0\n",
        "\n",
        "for i in range(-30,30):\n",
        "  x_coor.append (i)\n",
        "  y_coor.append (w*x_coor[iter] + b) \n",
        "  iter+=1\n",
        " \n",
        "plt.plot(x_coor, y_coor, 'r')\n",
        "plt.scatter(data[:,0], data[:,1])\n",
        "plt.show()"
      ],
      "execution_count": 4,
      "outputs": [
        {
          "output_type": "stream",
          "name": "stdout",
          "text": [
            "[ -5.72178172  13.00529931  -9.34196523   2.6781362   -0.91441633\n",
            "   0.87295927  -9.80579145   5.34349062  -8.55576507 -16.26504378\n",
            "  -5.51477184  -8.20940444   6.91497623 -11.57630139   1.82995573\n",
            "  -6.73898406 -15.78356028   9.13212203  18.2040127    3.73742458\n",
            "  -7.0441154  -19.22332695   3.49658334   3.97393931   8.2325504\n",
            "  14.06918523  12.52362776  12.01462049 -15.42770388 -21.28925249\n",
            "   1.73258446   3.87450523 -13.84444839   3.3496962   -1.02239852\n",
            "   7.37436259  12.66419607  -5.60115533  -6.330653    -2.98635794\n",
            "  -8.33284913   3.04960508  -5.35985797  -0.14409508  -9.95569121\n",
            "   3.28284539  -1.45390067   0.8357227   16.18107101  -7.91035957\n",
            "   9.20159504 -10.85194112 -23.3637186   -1.34241053 -14.36832803\n",
            "   2.58234926 -22.41866632  -2.39159106  13.02975109  12.2907661\n",
            "  -1.99547154 -13.632799     7.06704072 -14.28110625  -8.02750606\n",
            " -16.77229062   7.10441795   1.39849606  11.08533648  -5.50418224\n",
            "   5.57141131  -1.42878944 -11.06478973 -20.74298814  13.06097055\n",
            "   9.0522722    4.44377961  -3.90778417  -8.77253704  -1.64807236\n",
            "   7.71532212   7.53424711  -1.53112218   1.19724934   5.70883312\n",
            "  17.95005734  -1.32005299  -2.78122525 -13.95443447  -1.34267741\n",
            "   3.79589308  -4.60972615  22.32283341  16.93559346  -2.44874985\n",
            "   1.22505287   0.37590375  11.02620215  12.37807408  10.57058767] [ -29.75605613   52.25465566  -47.11380513   15.8301202     2.30347451\n",
            "   14.54178271  -56.93272412   48.13575164  -37.38474642  -68.09402243\n",
            "  -25.45292924  -21.3281937    30.31102183  -77.18784465   21.96598213\n",
            "  -36.25576694  -70.92190899   45.12702836  113.80152599   28.54151922\n",
            "  -38.91671229  -95.33150006   27.72408484   26.95809243   50.73048924\n",
            "   65.75720336   71.56025961   50.07207693  -82.05601397 -114.04741131\n",
            "   25.67201635   17.0551612   -69.00141501   14.49041446   11.90181583\n",
            "   13.83036619   67.22000493  -35.53627402  -29.58025307  -20.24760663\n",
            "  -52.5638995    35.78115292  -36.23920546   -1.16643485  -51.41098149\n",
            "   28.55660289  -12.50544194   21.68331355   85.97044798  -37.14255661\n",
            "   53.31350556  -58.82464119 -129.2512205   -15.01009893  -62.27557534\n",
            "    1.02440324 -112.32654117  -12.06826928   64.08606198   68.29568515\n",
            "  -16.31492501  -58.72999187   47.35768948  -77.17220684  -48.84398402\n",
            "  -68.6419728    42.65194115    7.55481912   50.81346206  -28.23150945\n",
            "   20.85070294  -13.82155195  -65.67551113  -99.80560942   64.79299424\n",
            "   37.44810305    0.66901861   -8.9374876   -43.91465851   -8.71137792\n",
            "   64.90273764   31.48713301  -27.00502426  -16.36917527   35.01044038\n",
            "  124.86083958   10.27881601    8.29989286  -50.82554262   -8.8993512\n",
            "   14.06564828  -11.67992607  114.35543485   80.11108885    8.07366277\n",
            "   15.82585679    2.22486131   67.9679175    64.41532469   50.45730284]\n",
            "iteration:  0 loss= tf.Tensor(22642.707, shape=(), dtype=float32) w= 20.0 b= 20.0\n",
            "iteration:  100 loss= tf.Tensor(17943572.0, shape=(), dtype=float32) w= 425.1769 b= 2.382771\n",
            "iteration:  200 loss= tf.Tensor(14501416000.0, shape=(), dtype=float32) w= 11945.967 b= -59.017803\n",
            "iteration:  300 loss= tf.Tensor(11719629000000.0, shape=(), dtype=float32) w= 339463.38 b= -1745.9375\n",
            "iteration:  400 loss= tf.Tensor(9471472000000000.0, shape=(), dtype=float32) w= 9650247.0 b= -49694.484\n",
            "iteration:  500 loss= tf.Tensor(7.6545696e+18, shape=(), dtype=float32) w= 274340450.0 b= -1412791.5\n",
            "iteration:  600 loss= tf.Tensor(6.186201e+21, shape=(), dtype=float32) w= 7799045000.0 b= -40163400.0\n",
            "iteration:  700 loss= tf.Tensor(4.9995115e+24, shape=(), dtype=float32) w= 221714060000.0 b= -1141780500.0\n",
            "iteration:  800 loss= tf.Tensor(4.0404603e+27, shape=(), dtype=float32) w= 6302964000000.0 b= -32458945000.0\n",
            "iteration:  900 loss= tf.Tensor(3.265371e+30, shape=(), dtype=float32) w= 179182550000000.0 b= -922750750000.0\n",
            "iteration:  1000 loss= tf.Tensor(2.6389743e+33, shape=(), dtype=float32) w= 5093860000000000.0 b= -26232300000000.0\n"
          ]
        },
        {
          "output_type": "display_data",
          "data": {
            "text/plain": [
              "<Figure size 432x288 with 1 Axes>"
            ],
            "image/png": "[encoded data removed]"
          },
          "metadata": {
            "needs_background": "light"
          }
        }
      ]
    },
    {
      "cell_type": "code",
      "metadata": {
        "id": "z49RDq700Sm0",
        "outputId": "142b9827-d286-4ddd-9484-d23057d0216a",
        "colab": {
          "base_uri": "https://localhost:8080/",
          "height": 458
        }
      },
      "source": [
        "import torch\n",
        "import torch.nn as nn\n",
        "import torch.nn.functional as F\n",
        " \n",
        "# 학습모델 정의\n",
        "class Linear_Regression(nn.Module):\n",
        "    def __init__(self):\n",
        "        super().__init__()\n",
        "        self.linear = nn.Linear(1, 1) # 단일 선형 회귀이므로 input_dim=1, output_dim=1.\n",
        " \n",
        "    def forward(self, x):\n",
        "        return self.linear(x)\n",
        " \n",
        "x = data[:,0].reshape(-1,1)\n",
        "y = data[:,1].reshape(-1,1)\n",
        " \n",
        "# 파이토치 포맷으로 변환\n",
        "in_x = torch.FloatTensor(x)\n",
        "in_y = torch.FloatTensor(y)\n",
        " \n",
        "# 회귀 모델 선언\n",
        "model = Linear_Regression()\n",
        "optimizer = torch.optim.SGD(model.parameters(), lr=0.01, momentum=0.01, nesterov=True) \n",
        "weight = []\n",
        " \n",
        "for i in range(1000+1):\n",
        "  pred = model(in_x)\n",
        "  loss = F.mse_loss(pred, in_y)\n",
        "  optimizer.zero_grad()\n",
        "  loss.backward()\n",
        "  optimizer.step()\n",
        " \n",
        "  # 100회 반복마다 손실값 및 w, b 출력\n",
        "  if i%100 == 0:\n",
        "    for param in model.parameters():\n",
        "      weight.append (param.data)\n",
        "    print('iteration:', i, 'loss=', loss, 'param=', weight[0], weight[1]) \n",
        " \n",
        "# 결과 출력\n",
        "x_coor = []\n",
        "y_coor = []\n",
        "a = weight[0]\n",
        "c = weight[1]\n",
        "iter=0\n",
        "for i in range(-30,30):\n",
        "  x_coor.append (i)\n",
        "  y_coor.append (a*x_coor[iter] + c)\n",
        "  iter+=1 \n",
        " \n",
        "plt.plot(x_coor, y_coor, 'r')\n",
        "plt.scatter(data[:,0], data[:,1])\n",
        "plt.show()"
      ],
      "execution_count": null,
      "outputs": [
        {
          "output_type": "stream",
          "text": [
            "iteration: 0 loss= tensor(2582.5962, grad_fn=<MseLossBackward>) param= tensor([[9.9426]]) tensor([0.1159])\n",
            "iteration: 100 loss= tensor(952.8740, grad_fn=<MseLossBackward>) param= tensor([[7.8918]]) tensor([1.7775])\n",
            "iteration: 200 loss= tensor(387.4988, grad_fn=<MseLossBackward>) param= tensor([[6.6824]]) tensor([1.9940])\n",
            "iteration: 300 loss= tensor(191.0710, grad_fn=<MseLossBackward>) param= tensor([[5.9695]]) tensor([2.0225])\n",
            "iteration: 400 loss= tensor(122.8198, grad_fn=<MseLossBackward>) param= tensor([[5.5492]]) tensor([2.0264])\n",
            "iteration: 500 loss= tensor(99.1054, grad_fn=<MseLossBackward>) param= tensor([[5.3015]]) tensor([2.0270])\n",
            "iteration: 600 loss= tensor(90.8655, grad_fn=<MseLossBackward>) param= tensor([[5.1555]]) tensor([2.0272])\n",
            "iteration: 700 loss= tensor(88.0024, grad_fn=<MseLossBackward>) param= tensor([[5.0694]]) tensor([2.0273])\n",
            "iteration: 800 loss= tensor(87.0075, grad_fn=<MseLossBackward>) param= tensor([[5.0186]]) tensor([2.0273])\n",
            "iteration: 900 loss= tensor(86.6619, grad_fn=<MseLossBackward>) param= tensor([[4.9887]]) tensor([2.0273])\n",
            "iteration: 1000 loss= tensor(86.5418, grad_fn=<MseLossBackward>) param= tensor([[4.9711]]) tensor([2.0273])\n"
          ],
          "name": "stdout"
        },
        {
          "output_type": "display_data",
          "data": {
            "image/png": "[encoded data removed]",
            "text/plain": [
              "<Figure size 432x288 with 1 Axes>"
            ]
          },
          "metadata": {
            "tags": [],
            "needs_background": "light"
          }
        }
      ]
    },
    {
      "cell_type": "code",
      "metadata": {
        "id": "uqOOJ9w7Kh2E",
        "outputId": "9d8461fa-a380-4c68-8aa4-aed9ab6fc207",
        "colab": {
          "base_uri": "https://localhost:8080/"
        }
      },
      "source": [
        "import torch\n",
        "print(torch.__version__)"
      ],
      "execution_count": null,
      "outputs": [
        {
          "output_type": "stream",
          "text": [
            "1.7.0+cu101\n"
          ],
          "name": "stdout"
        }
      ]
    },
    {
      "cell_type": "code",
      "metadata": {
        "id": "Av_iJGXxqqwV",
        "outputId": "bbcf6834-6f98-4dd5-a888-ea92e6ff6c20",
        "colab": {
          "base_uri": "https://localhost:8080/"
        }
      },
      "source": [
        "import tensorflow as tf\n",
        "print(tf.__version__)"
      ],
      "execution_count": null,
      "outputs": [
        {
          "output_type": "stream",
          "text": [
            "2.3.0\n"
          ],
          "name": "stdout"
        }
      ]
    },
    {
      "cell_type": "code",
      "metadata": {
        "id": "YLziFZzjLLKJ",
        "outputId": "2853b037-505e-4d57-94b0-546d1ba047a9",
        "colab": {
          "base_uri": "https://localhost:8080/"
        }
      },
      "source": [
        "from sklearn.linear_model import LinearRegression\n",
        " \n",
        "X = data[:,0].reshape(-1, 1)\n",
        "Y = data[:,1]\n",
        " \n",
        "model = LinearRegression().fit(X, Y)\n",
        "print('W=', model.coef_, 'b=',model.intercept_)"
      ],
      "execution_count": null,
      "outputs": [
        {
          "output_type": "stream",
          "text": [
            "W= [4.94578182] b= 2.027345863371662\n"
          ],
          "name": "stdout"
        }
      ]
    },
    {
      "cell_type": "code",
      "metadata": {
        "id": "YBlYdNtjMbzT"
      },
      "source": [
        ""
      ],
      "execution_count": null,
      "outputs": []
    }
  ]
}